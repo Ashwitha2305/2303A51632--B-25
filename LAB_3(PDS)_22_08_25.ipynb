{
  "nbformat": 4,
  "nbformat_minor": 0,
  "metadata": {
    "colab": {
      "provenance": [],
      "authorship_tag": "ABX9TyM2gYpFTox1Lh0tlTgBcYrD",
      "include_colab_link": true
    },
    "kernelspec": {
      "name": "python3",
      "display_name": "Python 3"
    },
    "language_info": {
      "name": "python"
    }
  },
  "cells": [
    {
      "cell_type": "markdown",
      "metadata": {
        "id": "view-in-github",
        "colab_type": "text"
      },
      "source": [
        "<a href=\"https://colab.research.google.com/github/Ashwitha2305/2303A51632--B-25/blob/main/LAB_3(PDS)_22_08_25.ipynb\" target=\"_parent\"><img src=\"https://colab.research.google.com/assets/colab-badge.svg\" alt=\"Open In Colab\"/></a>"
      ]
    },
    {
      "cell_type": "code",
      "execution_count": null,
      "metadata": {
        "colab": {
          "base_uri": "https://localhost:8080/"
        },
        "id": "M33yrkcN9C2v",
        "outputId": "691f335d-5223-4cfa-fb66-bdc22fec35db"
      },
      "outputs": [
        {
          "output_type": "stream",
          "name": "stdout",
          "text": [
            "Test Scores (4x4 Array):\n",
            " [[ 82  55  84  98]\n",
            " [ 77  94 100  60]\n",
            " [ 59  74  99  70]\n",
            " [ 74  93  82  53]]\n",
            "\n",
            "Row-wise Means: [79.75 82.75 75.5  75.5 ]\n",
            "Column-wise Means: [73.   79.   91.25 70.25]\n",
            "\n",
            "Standard Deviation: 15.426742203070615\n",
            "Variance: 237.984375\n",
            "\n",
            "Maximum Value: 100 at index (np.int64(1), np.int64(2))\n",
            "Minimum Value: 53 at index (np.int64(3), np.int64(3))\n",
            "\n",
            "Overall Median: 79.5\n",
            "Row-wise Medians: [83.  85.5 72.  78. ]\n",
            "Column-wise Medians: [75.5 83.5 91.5 65. ]\n"
          ]
        }
      ],
      "source": [
        "import numpy as np\n",
        "\n",
        "scores = np.random.randint(50, 101, size=(4, 4))\n",
        "print(\"Test Scores (4x4 Array):\\n\", scores)\n",
        "\n",
        "row_means = np.mean(scores, axis=1)\n",
        "col_means = np.mean(scores, axis=0)\n",
        "print(\"\\nRow-wise Means:\", row_means)\n",
        "print(\"Column-wise Means:\", col_means)\n",
        "\n",
        "std_dev = np.std(scores)\n",
        "variance = np.var(scores)\n",
        "print(\"\\nStandard Deviation:\", std_dev)\n",
        "print(\"Variance:\", variance)\n",
        "\n",
        "max_val = np.max(scores)\n",
        "min_val = np.min(scores)\n",
        "max_idx = np.unravel_index(np.argmax(scores), scores.shape)\n",
        "min_idx = np.unravel_index(np.argmin(scores), scores.shape)\n",
        "print(\"\\nMaximum Value:\", max_val, \"at index\", max_idx)\n",
        "print(\"Minimum Value:\", min_val, \"at index\", min_idx)\n",
        "\n",
        "overall_median = np.median(scores)\n",
        "row_medians = np.median(scores, axis=1)\n",
        "col_medians = np.median(scores, axis=0)\n",
        "print(\"\\nOverall Median:\", overall_median)\n",
        "print(\"Row-wise Medians:\", row_medians)\n",
        "print(\"Column-wise Medians:\", col_medians)"
      ]
    },
    {
      "cell_type": "code",
      "source": [
        "import numpy as np\n",
        "\n",
        "image = np.random.randint(0, 256, size=(3, 3, 3), dtype=np.uint8)\n",
        "print(\"Original 3D Image Array (RGB):\\n\", image)\n",
        "\n",
        "red_channel = image[:, :, 0]\n",
        "green_channel = image[:, :, 1]\n",
        "blue_channel = image[:, :, 2]\n",
        "\n",
        "print(\"\\nRed Channel:\\n\", red_channel)\n",
        "print(\"\\nGreen Channel:\\n\", green_channel)\n",
        "print(\"\\nBlue Channel:\\n\", blue_channel)\n",
        "\n",
        "avg_red = np.mean(red_channel)\n",
        "avg_green = np.mean(green_channel)\n",
        "avg_blue = np.mean(blue_channel)\n",
        "print(\"\\nAverage Intensities - R:\", avg_red, \"G:\", avg_green, \"B:\", avg_blue)\n",
        "\n",
        "brightened_image = np.clip(image + 50, 0, 255)\n",
        "print(\"\\nBrightened Image Array:\\n\", brightened_image)\n",
        "\n",
        "try:\n",
        "    import matplotlib.pyplot as plt\n",
        "\n",
        "    plt.figure(figsize=(10, 4))\n",
        "\n",
        "    plt.subplot(1, 2, 1)\n",
        "    plt.imshow(image)\n",
        "    plt.title(\"Original Image\")\n",
        "\n",
        "    plt.subplot(1, 2, 2)\n",
        "    plt.imshow(brightened_image)\n",
        "    plt.title(\"Brightened Image\")\n",
        "\n",
        "    plt.show()\n",
        "except ImportError:\n",
        "    print(\"\\n(Matplotlib not available for visualization)\")"
      ],
      "metadata": {
        "colab": {
          "base_uri": "https://localhost:8080/",
          "height": 1000
        },
        "id": "g3lJSnZv9JyP",
        "outputId": "d4622f31-2c6a-4225-c28b-c59b4609a87e"
      },
      "execution_count": null,
      "outputs": [
        {
          "output_type": "stream",
          "name": "stdout",
          "text": [
            "Original 3D Image Array (RGB):\n",
            " [[[194 224 103]\n",
            "  [ 39 207  48]\n",
            "  [  7 199 159]]\n",
            "\n",
            " [[229 158 230]\n",
            "  [205  59 150]\n",
            "  [167 110 176]]\n",
            "\n",
            " [[206 148 224]\n",
            "  [ 77 102  20]\n",
            "  [ 75 101 246]]]\n",
            "\n",
            "Red Channel:\n",
            " [[194  39   7]\n",
            " [229 205 167]\n",
            " [206  77  75]]\n",
            "\n",
            "Green Channel:\n",
            " [[224 207 199]\n",
            " [158  59 110]\n",
            " [148 102 101]]\n",
            "\n",
            "Blue Channel:\n",
            " [[103  48 159]\n",
            " [230 150 176]\n",
            " [224  20 246]]\n",
            "\n",
            "Average Intensities - R: 133.22222222222223 G: 145.33333333333334 B: 150.66666666666666\n",
            "\n",
            "Brightened Image Array:\n",
            " [[[244  18 153]\n",
            "  [ 89   1  98]\n",
            "  [ 57 249 209]]\n",
            "\n",
            " [[ 23 208  24]\n",
            "  [255 109 200]\n",
            "  [217 160 226]]\n",
            "\n",
            " [[  0 198  18]\n",
            "  [127 152  70]\n",
            "  [125 151  40]]]\n"
          ]
        },
        {
          "output_type": "display_data",
          "data": {
            "text/plain": [
              "<Figure size 1000x400 with 2 Axes>"
            ],
            "image/png": "[encoded data removed]"
          },
          "metadata": {}
        }
      ]
    }
  ]
}