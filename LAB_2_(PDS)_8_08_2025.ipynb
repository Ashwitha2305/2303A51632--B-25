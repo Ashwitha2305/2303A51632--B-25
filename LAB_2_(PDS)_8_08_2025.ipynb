{
  "nbformat": 4,
  "nbformat_minor": 0,
  "metadata": {
    "colab": {
      "provenance": [],
      "authorship_tag": "ABX9TyO2jEPSdxStk0qVhMSQAhe9",
      "include_colab_link": true
    },
    "kernelspec": {
      "name": "python3",
      "display_name": "Python 3"
    },
    "language_info": {
      "name": "python"
    }
  },
  "cells": [
    {
      "cell_type": "markdown",
      "metadata": {
        "id": "view-in-github",
        "colab_type": "text"
      },
      "source": [
        "<a href=\"https://colab.research.google.com/github/Ashwitha2305/2303A51632--B-25/blob/main/LAB_2_(PDS)_8_08_2025.ipynb\" target=\"_parent\"><img src=\"https://colab.research.google.com/assets/colab-badge.svg\" alt=\"Open In Colab\"/></a>"
      ]
    },
    {
      "cell_type": "code",
      "execution_count": 1,
      "metadata": {
        "id": "8JF4aFQd4smz"
      },
      "outputs": [],
      "source": [
        "import numpy as np\n",
        "import pandas as pd\n"
      ]
    },
    {
      "cell_type": "code",
      "source": [
        "arr=np.array([23,78,19,60])\n",
        "print(\"Original Array :\" ,arr)\n",
        "print(\"Add 5:\",arr+5)\n",
        "print(\"multiply by 6:\",arr*6)\n",
        "print(\"greater than 20:\",arr[arr>20])"
      ],
      "metadata": {
        "colab": {
          "base_uri": "https://localhost:8080/"
        },
        "id": "xnmPT4am4yCJ",
        "outputId": "f0ad3b71-c87a-4a52-ee80-280fe739290f"
      },
      "execution_count": 19,
      "outputs": [
        {
          "output_type": "stream",
          "name": "stdout",
          "text": [
            "Original Array : [23 78 19 60]\n",
            "Add 5: [28 83 24 65]\n",
            "multiply by 6: [138 468 114 360]\n",
            "greater than 20: [23 78 60]\n"
          ]
        }
      ]
    },
    {
      "cell_type": "code",
      "source": [
        "data={\n",
        "    'Name':['Anusha','Lakshmi','Varun','Srikar'],\n",
        "    'Age':[21,19,25,27],\n",
        "    'Score':[9.0,7.8,10.0,8.3]\n",
        "}\n",
        "df = pd.DataFrame(data)\n",
        "print(\"\\nOriginal DataFrame:\\n\", df)"
      ],
      "metadata": {
        "colab": {
          "base_uri": "https://localhost:8080/"
        },
        "id": "NJfV4DvU4x1u",
        "outputId": "acb8f905-c623-4bac-deb7-f7177d603e93"
      },
      "execution_count": 22,
      "outputs": [
        {
          "output_type": "stream",
          "name": "stdout",
          "text": [
            "\n",
            "Original DataFrame:\n",
            "       Name  Age  Score\n",
            "0   Anusha   21    9.0\n",
            "1  Lakshmi   19    7.8\n",
            "2    Varun   25   10.0\n",
            "3   Srikar   27    8.3\n"
          ]
        }
      ]
    },
    {
      "cell_type": "code",
      "source": [
        "df['passed']=df['Score']>8.0\n",
        "print(\"\\n DataFrame with passed column:\\n\",df)"
      ],
      "metadata": {
        "colab": {
          "base_uri": "https://localhost:8080/"
        },
        "id": "Oh3DnaN18NlM",
        "outputId": "fc039714-7cbe-487f-fe26-093b5b232152"
      },
      "execution_count": 23,
      "outputs": [
        {
          "output_type": "stream",
          "name": "stdout",
          "text": [
            "\n",
            " DataFrame with passed column:\n",
            "       Name  Age  Score  passed\n",
            "0   Anusha   21    9.0    True\n",
            "1  Lakshmi   19    7.8   False\n",
            "2    Varun   25   10.0    True\n",
            "3   Srikar   27    8.3    True\n"
          ]
        }
      ]
    },
    {
      "cell_type": "code",
      "source": [
        "older_students = df[df['Age'] >20]\n",
        "print(\"\\nStudents older than 20:\\n\", older_students)"
      ],
      "metadata": {
        "colab": {
          "base_uri": "https://localhost:8080/"
        },
        "id": "Y5jAt_Wo8-5i",
        "outputId": "6bda277e-5e02-4897-b050-499d84f1bedb"
      },
      "execution_count": 25,
      "outputs": [
        {
          "output_type": "stream",
          "name": "stdout",
          "text": [
            "\n",
            "Students older than 20:\n",
            "      Name  Age  Score  passed\n",
            "0  Anusha   21    9.0    True\n",
            "2   Varun   25   10.0    True\n",
            "3  Srikar   27    8.3    True\n"
          ]
        }
      ]
    },
    {
      "cell_type": "code",
      "source": [
        "average_score = df['Score'].mean()\n",
        "print(\"\\nAverage Score:\", average_score)"
      ],
      "metadata": {
        "colab": {
          "base_uri": "https://localhost:8080/"
        },
        "id": "V_bqnZrG8-2F",
        "outputId": "2b508573-e6af-458e-9dd2-007fc8412b3d"
      },
      "execution_count": 26,
      "outputs": [
        {
          "output_type": "stream",
          "name": "stdout",
          "text": [
            "\n",
            "Average Score: 8.775\n"
          ]
        }
      ]
    },
    {
      "cell_type": "code",
      "source": [
        "import numpy as np\n",
        "import matplotlib.pyplot as plt\n",
        "\n",
        "\n",
        "monthly_temps_celsius = np.array([14.2, 15.6, 18.1, 22.0, 26.5, 29.4, 31.2, 30.8, 28.0, 23.4, 18.0, 15.0])\n",
        "months = np.array(['Jan', 'Feb', 'Mar', 'Apr', 'May', 'Jun',\n",
        "                   'Jul', 'Aug', 'Sep', 'Oct', 'Nov', 'Dec'])\n",
        "\n",
        "avg_temp = np.mean(monthly_temps_celsius)\n",
        "max_temp = np.max(monthly_temps_celsius)\n",
        "min_temp = np.min(monthly_temps_celsius)\n",
        "hottest_month = months[np.argmax(monthly_temps_celsius)]\n",
        "coldest_month = months[np.argmin(monthly_temps_celsius)]\n",
        "\n",
        "print(\"Average Temperature (°C):\", round(avg_temp, 2))\n",
        "print(\"Hottest Month:\", hottest_month, f\"({max_temp}°C)\")\n",
        "print(\"Coldest Month:\", coldest_month, f\"({min_temp}°C)\")\n",
        "\n",
        "\n",
        "normalized_temps = (monthly_temps_celsius - min_temp) / (max_temp - min_temp)\n",
        "print(\"\\nNormalized Temperatures (0 to 1 scale):\\n\", np.round(normalized_temps, 2))\n",
        "\n",
        "above_avg_months = months[monthly_temps_celsius > avg_temp]\n",
        "print(\"\\nMonths Above Average Temperature:\", ', '.join(above_avg_months))\n",
        "temps_fahrenheit = monthly_temps_celsius * 9/5 + 32\n",
        "print(\"\\nTemperatures in Fahrenheit:\\n\", np.round(temps_fahrenheit, 2))\n",
        "\n",
        "plt.figure(figsize=(10, 5))\n",
        "plt.plot(months, monthly_temps_celsius, marker='o', label='Celsius')\n",
        "plt.plot(months, temps_fahrenheit, marker='x', linestyle='--', label='Fahrenheit')\n",
        "plt.title(\"Monthly Temperature Trend\")\n",
        "plt.xlabel(\"Months\")\n",
        "plt.ylabel(\"Temperature\")\n",
        "plt.legend()\n",
        "plt.grid(True)\n",
        "plt.tight_layout()\n",
        "plt.show()\n"
      ],
      "metadata": {
        "colab": {
          "base_uri": "https://localhost:8080/",
          "height": 698
        },
        "id": "fRAwwT479TyT",
        "outputId": "9a671ca6-7fd2-491b-be25-9b26dd27c976"
      },
      "execution_count": 31,
      "outputs": [
        {
          "output_type": "stream",
          "name": "stdout",
          "text": [
            "Average Temperature (°C): 22.68\n",
            "Hottest Month: Jul (31.2°C)\n",
            "Coldest Month: Jan (14.2°C)\n",
            "\n",
            "Normalized Temperatures (0 to 1 scale):\n",
            " [0.   0.08 0.23 0.46 0.72 0.89 1.   0.98 0.81 0.54 0.22 0.05]\n",
            "\n",
            "Months Above Average Temperature: May, Jun, Jul, Aug, Sep, Oct\n",
            "\n",
            "Temperatures in Fahrenheit:\n",
            " [57.56 60.08 64.58 71.6  79.7  84.92 88.16 87.44 82.4  74.12 64.4  59.  ]\n"
          ]
        },
        {
          "output_type": "display_data",
          "data": {
            "text/plain": [
              "<Figure size 1000x500 with 1 Axes>"
            ],
            "image/png": "[encoded data removed]"
          },
          "metadata": {}
        }
      ]
    },
    {
      "cell_type": "code",
      "source": [
        "import pandas as pd\n",
        "\n",
        "data = {\n",
        "    'Order ID': [101, 102, 103, 104, 105, 106, 107, 108],\n",
        "    'Product': ['Laptop', 'Phone', 'Tablet', 'Laptop', 'Phone', 'Camera', 'Laptop', 'Camera'],\n",
        "    'Quantity': [1, 2, 1, 3, 2, 1, 1, 2],\n",
        "    'Price': [70000, 25000, 15000, 70000, 25000, 30000, 70000, 30000]\n",
        "}\n",
        "\n",
        "df = pd.DataFrame(data)\n",
        "\n",
        "df['Total Sale'] = df['Quantity'] * df['Price']\n",
        "\n",
        "high_value_orders = df[df['Total Sale'] > 1000]\n",
        "\n",
        "most_sold = df.groupby('Product')['Quantity'].sum().reset_index()\n",
        "most_sold = most_sold.sort_values(by='Quantity', ascending=False)\n",
        "top_product = most_sold.iloc[0]['Product']\n",
        "\n",
        "def apply_discount(sale):\n",
        "    if sale > 100000:\n",
        "        return sale * 0.10\n",
        "    elif sale > 50000:\n",
        "        return sale * 0.05\n",
        "    else:\n",
        "        return 0\n",
        "\n",
        "df['Discount'] = df['Total Sale'].apply(apply_discount)\n",
        "\n",
        "print(\"Full Sales DataFrame:\\n\", df)\n",
        "print(\"\\nHigh Value Orders (>1000):\\n\", high_value_orders)\n",
        "print(f\"\\nMost Sold Product: {top_product}\")\n",
        "\n",
        "df.to_excel(\"ecommerce_sales_summary.xlsx\", index=False)\n",
        "print(\"\\n Summary exported to 'ecommerce_sales_summary.xlsx'\")\n"
      ],
      "metadata": {
        "colab": {
          "base_uri": "https://localhost:8080/"
        },
        "id": "r54KPEP-9Tu2",
        "outputId": "16e80dbe-2a64-4299-952a-7acf905b0537"
      },
      "execution_count": 35,
      "outputs": [
        {
          "output_type": "stream",
          "name": "stdout",
          "text": [
            "Full Sales DataFrame:\n",
            "    Order ID Product  Quantity  Price  Total Sale  Discount\n",
            "0       101  Laptop         1  70000       70000    3500.0\n",
            "1       102   Phone         2  25000       50000       0.0\n",
            "2       103  Tablet         1  15000       15000       0.0\n",
            "3       104  Laptop         3  70000      210000   21000.0\n",
            "4       105   Phone         2  25000       50000       0.0\n",
            "5       106  Camera         1  30000       30000       0.0\n",
            "6       107  Laptop         1  70000       70000    3500.0\n",
            "7       108  Camera         2  30000       60000    3000.0\n",
            "\n",
            "High Value Orders (>1000):\n",
            "    Order ID Product  Quantity  Price  Total Sale\n",
            "0       101  Laptop         1  70000       70000\n",
            "1       102   Phone         2  25000       50000\n",
            "2       103  Tablet         1  15000       15000\n",
            "3       104  Laptop         3  70000      210000\n",
            "4       105   Phone         2  25000       50000\n",
            "5       106  Camera         1  30000       30000\n",
            "6       107  Laptop         1  70000       70000\n",
            "7       108  Camera         2  30000       60000\n",
            "\n",
            "Most Sold Product: Laptop\n",
            "\n",
            " Summary exported to 'ecommerce_sales_summary.xlsx'\n"
          ]
        }
      ]
    },
    {
      "cell_type": "code",
      "source": [],
      "metadata": {
        "id": "4g7LiNdB9TsR"
      },
      "execution_count": null,
      "outputs": []
    },
    {
      "cell_type": "code",
      "source": [],
      "metadata": {
        "id": "sffHDAdz9Tph"
      },
      "execution_count": null,
      "outputs": []
    },
    {
      "cell_type": "code",
      "source": [],
      "metadata": {
        "id": "NRgGGpJH9Tmg"
      },
      "execution_count": null,
      "outputs": []
    }
  ]
}