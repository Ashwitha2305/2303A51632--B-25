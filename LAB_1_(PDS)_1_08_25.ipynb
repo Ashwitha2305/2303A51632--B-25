{
  "nbformat": 4,
  "nbformat_minor": 0,
  "metadata": {
    "colab": {
      "provenance": [],
      "authorship_tag": "ABX9TyP9DAP4ZNnqdHRMxHHhyEDS",
      "include_colab_link": true
    },
    "kernelspec": {
      "name": "python3",
      "display_name": "Python 3"
    },
    "language_info": {
      "name": "python"
    }
  },
  "cells": [
    {
      "cell_type": "markdown",
      "metadata": {
        "id": "view-in-github",
        "colab_type": "text"
      },
      "source": [
        "<a href=\"https://colab.research.google.com/github/Ashwitha2305/2303A51632--B-25/blob/main/LAB_1_(PDS)_1_08_25.ipynb\" target=\"_parent\"><img src=\"https://colab.research.google.com/assets/colab-badge.svg\" alt=\"Open In Colab\"/></a>"
      ]
    },
    {
      "cell_type": "code",
      "source": [
        "def factorial(n, depth=0):\n",
        "    indent = \"  \" * depth\n",
        "    print(f\"{indent}factorial({n}) called\")\n",
        "\n",
        "    if n == 0 or n == 1:\n",
        "        print(f\"{indent}Base case reached: return 1\")\n",
        "        return 1\n",
        "    else:\n",
        "        print(f\"{indent}Recursive step: return {n} * factorial({n - 1})\")\n",
        "        result = n * factorial(n - 1, depth + 1)\n",
        "        print(f\"{indent}Returning: {n} * factorial({n - 1}) = {result}\")\n",
        "        return result\n",
        "\n",
        "# Input from user\n",
        "number = int(input(\"Enter a number: \"))\n",
        "\n",
        "if number < 0:\n",
        "    print(\"Factorial is not defined for negative numbers.\")\n",
        "else:\n",
        "    result = factorial(number)\n",
        "    print(f\"The factorial of {number} is {result}\")\n"
      ],
      "metadata": {
        "colab": {
          "base_uri": "https://localhost:8080/"
        },
        "id": "0wLqzrFI03DI",
        "outputId": "584daef4-ba8e-40b8-e04e-af0a18240660"
      },
      "execution_count": null,
      "outputs": [
        {
          "output_type": "stream",
          "name": "stdout",
          "text": [
            "Enter a number: 4\n",
            "factorial(4) called\n",
            "Recursive step: return 4 * factorial(3)\n",
            "  factorial(3) called\n",
            "  Recursive step: return 3 * factorial(2)\n",
            "    factorial(2) called\n",
            "    Recursive step: return 2 * factorial(1)\n",
            "      factorial(1) called\n",
            "      Base case reached: return 1\n",
            "    Returning: 2 * factorial(1) = 2\n",
            "  Returning: 3 * factorial(2) = 6\n",
            "Returning: 4 * factorial(3) = 24\n",
            "The factorial of 4 is 24\n"
          ]
        }
      ]
    },
    {
      "cell_type": "code",
      "source": [
        "import time\n",
        "import sys\n",
        "\n",
        "\n",
        "def factorial_recursive(n):\n",
        "    if n < 0:\n",
        "        raise ValueError(\"Negative numbers not allowed.\")\n",
        "    if n == 0 or n == 1:\n",
        "        return 1\n",
        "    return n * factorial_recursive(n - 1)\n",
        "\n",
        "\n",
        "def factorial_iterative(n):\n",
        "    if n < 0:\n",
        "        raise ValueError(\"Negative numbers not allowed.\")\n",
        "    result = 1\n",
        "    for i in range(2, n + 1):\n",
        "        result *= i\n",
        "    return result\n",
        "\n",
        "# ---------- Comparison Function ----------\n",
        "def compare_factorial_methods(n):\n",
        "    if n < 0:\n",
        "        print(\"Invalid input. Enter a non-negative number.\")\n",
        "        return\n",
        "\n",
        "    print(f\"\\nFactorial Comparison for n = {n}\")\n",
        "    print(\"-\" * 50)\n",
        "\n",
        "    # --- Recursive ---\n",
        "    try:\n",
        "        start = time.time()\n",
        "        result_r = factorial_recursive(n)\n",
        "        end = time.time()\n",
        "        time_r = (end - start) * 1e6\n",
        "        size_r = sys.getsizeof(result_r)\n",
        "    except RecursionError:\n",
        "        result_r = \"Recursion Limit Exceeded\"\n",
        "        time_r = \"N/A\"\n",
        "        size_r = \"N/A\"\n",
        "\n",
        "    # --- Iterative ---\n",
        "    start = time.time()\n",
        "    result_i = factorial_iterative(n)\n",
        "    end = time.time()\n",
        "    time_i = (end - start) * 1e6\n",
        "    size_i = sys.getsizeof(result_i)\n",
        "\n",
        "\n",
        "    print(f\"{'Method':<12} | {'Result':<20} | {'Time (µs)':<12} | {'Size (bytes)'}\")\n",
        "    print(\"-\" * 60)\n",
        "    print(f\"{'Recursive':<12} | {str(result_r):<20} | {str(round(time_r, 2)):<12} | {str(size_r)}\")\n",
        "    print(f\"{'Iterative':<12} | {str(result_i):<20} | {str(round(time_i, 2)):<12} | {str(size_i)}\")\n",
        "\n",
        "\n",
        "if __name__ == \"__main__\":\n",
        "    try:\n",
        "        num = int(input(\"Enter a number (0–100) to compare factorial methods: \"))\n",
        "        compare_factorial_methods(num)\n",
        "    except ValueError:\n",
        "        print(\"Invalid input. Please enter an integer.\")"
      ],
      "metadata": {
        "colab": {
          "base_uri": "https://localhost:8080/"
        },
        "id": "3Zgsveox8Fl4",
        "outputId": "4c17605a-c007-4cbf-cd87-7d6baeb999e3"
      },
      "execution_count": null,
      "outputs": [
        {
          "output_type": "stream",
          "name": "stdout",
          "text": [
            "Enter a number (0–100) to compare factorial methods: 5\n",
            "\n",
            "Factorial Comparison for n = 5\n",
            "--------------------------------------------------\n",
            "Method       | Result               | Time (µs)    | Size (bytes)\n",
            "------------------------------------------------------------\n",
            "Recursive    | 120                  | 4.29         | 28\n",
            "Iterative    | 120                  | 4.53         | 28\n"
          ]
        }
      ]
    }
  ]
}