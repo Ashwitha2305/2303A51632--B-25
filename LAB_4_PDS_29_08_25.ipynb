{
  "nbformat": 4,
  "nbformat_minor": 0,
  "metadata": {
    "colab": {
      "provenance": [],
      "authorship_tag": "ABX9TyPLSX8lav/R9Ll+PQnBCmOO",
      "include_colab_link": true
    },
    "kernelspec": {
      "name": "python3",
      "display_name": "Python 3"
    },
    "language_info": {
      "name": "python"
    }
  },
  "cells": [
    {
      "cell_type": "markdown",
      "metadata": {
        "id": "view-in-github",
        "colab_type": "text"
      },
      "source": [
        "<a href=\"https://colab.research.google.com/github/Ashwitha2305/2303A51632--B-25/blob/main/LAB_4_PDS_29_08_25.ipynb\" target=\"_parent\"><img src=\"https://colab.research.google.com/assets/colab-badge.svg\" alt=\"Open In Colab\"/></a>"
      ]
    },
    {
      "cell_type": "code",
      "execution_count": 6,
      "metadata": {
        "colab": {
          "base_uri": "https://localhost:8080/"
        },
        "id": "cRXHFLqVAciY",
        "outputId": "92060b92-7757-4f92-9b42-bd4e9a53b125"
      },
      "outputs": [
        {
          "output_type": "stream",
          "name": "stdout",
          "text": [
            "Original Data:\n",
            "    User_ID              Course_Name  Rating  \\\n",
            "0      101  Python for Data Science     5.0   \n",
            "1      102          Web Development     NaN   \n",
            "2      103         Machine Learning     3.0   \n",
            "3      104       Data Visualization     4.0   \n",
            "4      105           Cyber Security     2.0   \n",
            "5      106  Python for Data Science     4.0   \n",
            "6      107          Cloud Computing     5.0   \n",
            "7      108  Python for Data Science     NaN   \n",
            "8      109      Database Management     3.0   \n",
            "9      110  Artificial Intelligence     5.0   \n",
            "\n",
            "                               Feedback        Date  \n",
            "0            Great course, very useful!  2025-08-20  \n",
            "1                   Loved the projects.  2025-08-21  \n",
            "2                       Too fast paced.  2025-08-22  \n",
            "3  Good balance of theory and practice.  2025-08-23  \n",
            "4                 Needs more exercises.  2025-08-24  \n",
            "5              Excellent for beginners!  2025-08-25  \n",
            "6          Very practical and detailed.  2025-08-26  \n",
            "7  Helpful but needs more coding tasks.  2025-08-27  \n",
            "8            Projects were challenging.  2025-08-28  \n",
            "9  Amazing concepts, clearly explained!  2025-08-29  \n",
            "\n",
            "Meaningful Feedbacks:\n",
            "\n",
            "   User_ID                    Feedback\n",
            "0      101  Great course, very useful!\n",
            "5      106    Excellent for beginners!\n"
          ]
        }
      ],
      "source": [
        "import pandas as pd\n",
        "\n",
        "# Step 1: Create dataset with 10 varied entries\n",
        "data = {\n",
        "    \"User_ID\": [101, 102, 103, 104, 105, 106, 107, 108, 109, 110],\n",
        "    \"Course_Name\": [\n",
        "        \"Python for Data Science\",\n",
        "        \"Web Development\",\n",
        "        \"Machine Learning\",\n",
        "        \"Data Visualization\",\n",
        "        \"Cyber Security\",\n",
        "        \"Python for Data Science\",\n",
        "        \"Cloud Computing\",\n",
        "        \"Python for Data Science\",\n",
        "        \"Database Management\",\n",
        "        \"Artificial Intelligence\"\n",
        "    ],\n",
        "    \"Rating\": [\n",
        "        5, None, 3, 4, 2,   # First 5 entries\n",
        "        4, 5, None, 3, 5    # Next 5 entries\n",
        "    ],\n",
        "    \"Feedback\": [\n",
        "        \"Great course, very useful!\",\n",
        "        \"Loved the projects.\",\n",
        "        \"Too fast paced.\",\n",
        "        \"Good balance of theory and practice.\",\n",
        "        \"Needs more exercises.\",\n",
        "        \"Excellent for beginners!\",\n",
        "        \"Very practical and detailed.\",\n",
        "        \"Helpful but needs more coding tasks.\",\n",
        "        \"Projects were challenging.\",\n",
        "        \"Amazing concepts, clearly explained!\"\n",
        "    ],\n",
        "    \"Date\": [\n",
        "        \"2025-08-20\", \"2025-08-21\", \"2025-08-22\", \"2025-08-23\", \"2025-08-24\",\n",
        "        \"2025-08-25\", \"2025-08-26\", \"2025-08-27\", \"2025-08-28\", \"2025-08-29\"\n",
        "    ]\n",
        "}\n",
        "\n",
        "# Convert dictionary to DataFrame\n",
        "df = pd.DataFrame(data)\n",
        "\n",
        "print(\"Original Data:\\n\", df)\n",
        "\n",
        "# Step 2: Remove rows with missing Rating\n",
        "df = df.dropna(subset=[\"Rating\"])\n",
        "\n",
        "# Step 3: Filter feedback for \"Python for Data Science\" with Rating >= 4\n",
        "filtered = df[(df[\"Course_Name\"] == \"Python for Data Science\") & (df[\"Rating\"] >= 4)]\n",
        "\n",
        "# Step 4: Display usernames (User_ID) and feedback\n",
        "print(\"\\nMeaningful Feedbacks:\\n\")\n",
        "print(filtered[[\"User_ID\", \"Feedback\"]])\n"
      ]
    },
    {
      "cell_type": "code",
      "source": [
        "import pandas as pd\n",
        "\n",
        "# Step 1: Create dataset with 10 entries\n",
        "data = {\n",
        "    \"Location\": [\n",
        "        \"Delhi\", \"Mumbai\", \"Chennai\", \"Bengaluru\", \"Kolkata\",\n",
        "        \"Hyderabad\", \"Pune\", \"Ahmedabad\", \"Jaipur\", \"Lucknow\"\n",
        "    ],\n",
        "    \"PM2.5\": [180, 90, None, 160, 200, 145, None, 175, 155, 80],\n",
        "    \"PM10\": [300, 120, 180, None, 250, 210, 190, 220, None, 150],\n",
        "    \"NO2\": [85, 60, None, 95, 110, 70, 82, None, 90, 55],\n",
        "    \"SO2\": [25, 15, 20, 30, None, 18, 22, 28, 24, 19],\n",
        "    \"Date\": [\n",
        "        \"2025-08-20\", \"2025-08-21\", \"2025-08-22\", \"2025-08-23\", \"2025-08-24\",\n",
        "        \"2025-08-25\", \"2025-08-26\", \"2025-08-27\", \"2025-08-28\", \"2025-08-29\"\n",
        "    ]\n",
        "}\n",
        "\n",
        "# Convert dictionary to DataFrame\n",
        "df = pd.DataFrame(data)\n",
        "\n",
        "print(\"Original Data:\\n\", df)\n",
        "\n",
        "# Step 2: Fill missing pollutant values using forward fill\n",
        "df = df.fillna(method=\"ffill\")\n",
        "\n",
        "# Step 3: Filter polluted days (PM2.5 > 150 and NO2 > 80)\n",
        "polluted_days = df[(df[\"PM2.5\"] > 150) & (df[\"NO2\"] > 80)]\n",
        "\n",
        "# Step 4: Display polluted day records\n",
        "print(\"\\nPolluted Day Records:\\n\")\n",
        "print(polluted_days)\n"
      ],
      "metadata": {
        "colab": {
          "base_uri": "https://localhost:8080/"
        },
        "id": "J7PnAVmORUhj",
        "outputId": "1ba4aa00-5ed4-40cc-8ed8-27534b521112"
      },
      "execution_count": 15,
      "outputs": [
        {
          "output_type": "stream",
          "name": "stdout",
          "text": [
            "Original Data:\n",
            "     Location  PM2.5   PM10    NO2   SO2        Date\n",
            "0      Delhi  180.0  300.0   85.0  25.0  2025-08-20\n",
            "1     Mumbai   90.0  120.0   60.0  15.0  2025-08-21\n",
            "2    Chennai    NaN  180.0    NaN  20.0  2025-08-22\n",
            "3  Bengaluru  160.0    NaN   95.0  30.0  2025-08-23\n",
            "4    Kolkata  200.0  250.0  110.0   NaN  2025-08-24\n",
            "5  Hyderabad  145.0  210.0   70.0  18.0  2025-08-25\n",
            "6       Pune    NaN  190.0   82.0  22.0  2025-08-26\n",
            "7  Ahmedabad  175.0  220.0    NaN  28.0  2025-08-27\n",
            "8     Jaipur  155.0    NaN   90.0  24.0  2025-08-28\n",
            "9    Lucknow   80.0  150.0   55.0  19.0  2025-08-29\n",
            "\n",
            "Polluted Day Records:\n",
            "\n",
            "    Location  PM2.5   PM10    NO2   SO2        Date\n",
            "0      Delhi  180.0  300.0   85.0  25.0  2025-08-20\n",
            "3  Bengaluru  160.0  180.0   95.0  30.0  2025-08-23\n",
            "4    Kolkata  200.0  250.0  110.0  30.0  2025-08-24\n",
            "7  Ahmedabad  175.0  220.0   82.0  28.0  2025-08-27\n",
            "8     Jaipur  155.0  220.0   90.0  24.0  2025-08-28\n"
          ]
        },
        {
          "output_type": "stream",
          "name": "stderr",
          "text": [
            "/tmp/ipython-input-3075323723.py:25: FutureWarning: DataFrame.fillna with 'method' is deprecated and will raise in a future version. Use obj.ffill() or obj.bfill() instead.\n",
            "  df = df.fillna(method=\"ffill\")\n"
          ]
        }
      ]
    }
  ]
}